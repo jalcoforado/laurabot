{
 "cells": [
  {
   "cell_type": "code",
   "execution_count": 23,
   "metadata": {},
   "outputs": [
    {
     "name": "stdout",
     "output_type": "stream",
     "text": [
      "fastest\n",
      "fastest\n"
     ]
    }
   ],
   "source": [
    "from nltk.stem.porter import * \n",
    "from nltk.stem.snowball import SnowballStemmer\n",
    "import spacy\n",
    "nlp = spacy.load('pt') #Carrega o modelo en (english)\n",
    "\n",
    "\n",
    "snowball_stemmer = SnowballStemmer(\"portuguese\")  # idioma inglês \n",
    "print(porter_stemmer.stem(\"fastest\")) \n",
    "print(snowball_stemmer.stem(\"fastest\"))\n"
   ]
  },
  {
   "cell_type": "code",
   "execution_count": null,
   "metadata": {},
   "outputs": [],
   "source": []
  },
  {
   "cell_type": "code",
   "execution_count": 25,
   "metadata": {},
   "outputs": [
    {
     "name": "stdout",
     "output_type": "stream",
     "text": [
      "Paulo LOC\n"
     ]
    }
   ],
   "source": [
    "my_string = u\"Quem é o prefeito de são Paulo?\" \n",
    "doc = nlp(my_string) \n",
    "for ent in doc.ents: \n",
    "    print(ent.text, ent.label_)\n",
    "\n"
   ]
  },
  {
   "cell_type": "code",
   "execution_count": 20,
   "metadata": {},
   "outputs": [
    {
     "name": "stdout",
     "output_type": "stream",
     "text": [
      "Quem PRON\n",
      "é VERB\n",
      "o DET\n",
      "prefeito NOUN\n",
      "de ADP\n",
      "são VERB\n",
      "Paulo PROPN\n",
      "? PUNCT\n"
     ]
    }
   ],
   "source": [
    "for token in doc: \n",
    "    print(token.text, token.pos_)  # exibe o texto e a POS\n",
    "\n"
   ]
  },
  {
   "cell_type": "code",
   "execution_count": 21,
   "metadata": {},
   "outputs": [
    {
     "name": "stdout",
     "output_type": "stream",
     "text": [
      "Google ORG\n",
      "Mountain View ORG\n",
      "California LOC\n",
      "US LOC\n"
     ]
    }
   ],
   "source": [
    "my_string = u\"Google has its headquarters in Mountain View, California having revenue amounted to 109.65 billion US dollars\" \n",
    "# (A sede do Google é em Mountain View, Califórnia, e a empresa chegou a uma receita de 189,65 bilhões de dólares americanos) \n",
    "doc = nlp(my_string) \n",
    "for ent in doc.ents: \n",
    "    print(ent.text, ent.label_)\n",
    "\n",
    "\n"
   ]
  },
  {
   "cell_type": "code",
   "execution_count": 31,
   "metadata": {},
   "outputs": [
    {
     "name": "stdout",
     "output_type": "stream",
     "text": [
      "São Paulo LOC\n",
      "Facebook LOC\n",
      "JK PER\n"
     ]
    }
   ],
   "source": [
    "my_string = u\"Qual é o prefeito de São Paulo, Facebook cidade do JK?\" \n",
    "# (A sede do Google é em Mountain View, Califórnia, e a empresa chegou a uma receita de 189,65 bilhões de dólares americanos) \n",
    "doc = nlp(my_string) \n",
    "for ent in doc.ents: \n",
    "    print(ent.text, ent.label_)"
   ]
  },
  {
   "cell_type": "code",
   "execution_count": null,
   "metadata": {},
   "outputs": [],
   "source": []
  },
  {
   "cell_type": "code",
   "execution_count": null,
   "metadata": {},
   "outputs": [],
   "source": []
  }
 ],
 "metadata": {
  "kernelspec": {
   "display_name": "Python 3",
   "language": "python",
   "name": "python3"
  },
  "language_info": {
   "codemirror_mode": {
    "name": "ipython",
    "version": 3
   },
   "file_extension": ".py",
   "mimetype": "text/x-python",
   "name": "python",
   "nbconvert_exporter": "python",
   "pygments_lexer": "ipython3",
   "version": "3.6.8"
  }
 },
 "nbformat": 4,
 "nbformat_minor": 4
}

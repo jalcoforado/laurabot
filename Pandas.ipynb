{
 "metadata": {
  "language_info": {
   "codemirror_mode": {
    "name": "ipython",
    "version": 3
   },
   "file_extension": ".py",
   "mimetype": "text/x-python",
   "name": "python",
   "nbconvert_exporter": "python",
   "pygments_lexer": "ipython3",
   "version": "3.6.8-final"
  },
  "orig_nbformat": 2,
  "kernelspec": {
   "name": "python_defaultSpec_1599675198893",
   "display_name": "Python 3.6.8 64-bit ('env': venv)"
  }
 },
 "nbformat": 4,
 "nbformat_minor": 2,
 "cells": [
  {
   "cell_type": "code",
   "execution_count": 15,
   "metadata": {},
   "outputs": [],
   "source": [
    "from typing import Any, Text, Dict, List\n",
    "from rasa_sdk import Action, Tracker\n",
    "from rasa_sdk.executor import CollectingDispatcher\n",
    "import urllib.request\n",
    "\n",
    "# importe as funções BeautifulSoup para analisar os dados retornados do site\n",
    "from bs4 import BeautifulSoup\n",
    "import pandas as pd\n",
    "import sys\n"
   ]
  },
  {
   "cell_type": "code",
   "execution_count": 31,
   "metadata": {
    "tags": []
   },
   "outputs": [
    {
     "output_type": "stream",
     "name": "stdout",
     "text": "Fortaleza\n    Posição     Cidade Estado         Prefeito Partido\n4\\n     4\\n  FORTALEZA  Ceará  Roberto Cláudio     PDT\n4\\n    Roberto Cláudio Do partido PDT\ndtype: object\n"
    }
   ],
   "source": [
    "        Cidade = \"Fortaleza\"\n",
    "        print(Cidade)\n",
    "        Cidade = str(Cidade).upper()\n",
    "        # especifique o URL\n",
    "        wiki = \"https://pt.wikipedia.org/wiki/Lista_de_prefeitos_dos_munic%C3%ADpios_mais_populosos_do_Brasil\"\n",
    "        # Consulte o site e retorne o html para a variável 'page'\n",
    "        page = urllib.request.urlopen(wiki)\n",
    "        # Parse o html na variável 'page' e armazene-o no formato BeautifulSoup\n",
    "        soup = BeautifulSoup(page, \"html.parser\")\n",
    "        # Localiza a table dos nomes do prefeito\n",
    "        table = soup.find(\"table\", class_=\"wikitable sortable\")\n",
    "        A = []\n",
    "        B = []\n",
    "        C = []\n",
    "        D = []\n",
    "        E = []\n",
    "\n",
    "        for row in table.findAll(\"tr\"):  # para tudo que estiver em <tr>\n",
    "            cells = row.findAll(\"td\")  # variável para encontrar <td>\n",
    "            if len(cells) == 5:  # número de colunas\n",
    "                A.append(cells[0].find(text=True))  # iterando sobre cada linha\n",
    "                B.append(str(cells[1].find(\"a\").text).upper())\n",
    "                C.append(cells[2].find(\"a\").text)\n",
    "                D.append(cells[3].find(text=True))\n",
    "                E.append(cells[4].find(text=True))\n",
    "\n",
    "        df = pd.DataFrame(index=A, columns=[\"Posição\"])\n",
    "\n",
    "        df[\"Posição\"] = A\n",
    "        df[\"Cidade\"] = B\n",
    "        df[\"Estado\"] = C\n",
    "        df[\"Prefeito\"] = D\n",
    "        df[\"Partido\"] = E\n",
    "        if Cidade == \"none\":\n",
    "          resposta = \"Não encontrei\"\n",
    "        else:\n",
    "            resposta = df[df[\"Cidade\"] == Cidade]\n",
    "\n",
    "            # resposta = str(resposta)\n",
    "            print(resposta)\n",
    "            resposta_final = resposta[\"Prefeito\"] + \" Do partido \" + resposta[\"Partido\"]\n",
    "            print(str(resposta_final))\n",
    "          \n"
   ]
  },
  {
   "cell_type": "code",
   "execution_count": 38,
   "metadata": {},
   "outputs": [
    {
     "output_type": "execute_result",
     "data": {
      "text/plain": "'FORTALEZA'"
     },
     "metadata": {},
     "execution_count": 38
    }
   ],
   "source": [
    "resposta[\"Cidade\"].values[0]"
   ]
  },
  {
   "cell_type": "code",
   "execution_count": 2,
   "metadata": {},
   "outputs": [],
   "source": [
    "data = {\n",
    "'País': ['Bélgica', 'Índia', 'Brasil'],\n",
    "'Capital': ['Bruxelas', 'Nova Delhi', 'Brasília'],\n",
    "'População': [123465, 456789, 987654]\n",
    "}"
   ]
  },
  {
   "cell_type": "code",
   "execution_count": 3,
   "metadata": {},
   "outputs": [],
   "source": [
    "df = pd.DataFrame(data, columns=['País','Capital','População'])"
   ]
  },
  {
   "cell_type": "code",
   "execution_count": 8,
   "metadata": {},
   "outputs": [
    {
     "output_type": "execute_result",
     "data": {
      "text/plain": "'Bélgica'"
     },
     "metadata": {},
     "execution_count": 8
    }
   ],
   "source": [
    "df.loc[0, 'País']"
   ]
  },
  {
   "cell_type": "code",
   "execution_count": 4,
   "metadata": {},
   "outputs": [
    {
     "output_type": "execute_result",
     "data": {
      "text/plain": "      País     Capital  População\n0  Bélgica    Bruxelas     123465\n1    Índia  Nova Delhi     456789\n2   Brasil    Brasília     987654",
      "text/html": "<div>\n<style scoped>\n    .dataframe tbody tr th:only-of-type {\n        vertical-align: middle;\n    }\n\n    .dataframe tbody tr th {\n        vertical-align: top;\n    }\n\n    .dataframe thead th {\n        text-align: right;\n    }\n</style>\n<table border=\"1\" class=\"dataframe\">\n  <thead>\n    <tr style=\"text-align: right;\">\n      <th></th>\n      <th>País</th>\n      <th>Capital</th>\n      <th>População</th>\n    </tr>\n  </thead>\n  <tbody>\n    <tr>\n      <th>0</th>\n      <td>Bélgica</td>\n      <td>Bruxelas</td>\n      <td>123465</td>\n    </tr>\n    <tr>\n      <th>1</th>\n      <td>Índia</td>\n      <td>Nova Delhi</td>\n      <td>456789</td>\n    </tr>\n    <tr>\n      <th>2</th>\n      <td>Brasil</td>\n      <td>Brasília</td>\n      <td>987654</td>\n    </tr>\n  </tbody>\n</table>\n</div>"
     },
     "metadata": {},
     "execution_count": 4
    }
   ],
   "source": [
    "df"
   ]
  },
  {
   "cell_type": "code",
   "execution_count": null,
   "metadata": {},
   "outputs": [],
   "source": []
  },
  {
   "cell_type": "code",
   "execution_count": null,
   "metadata": {},
   "outputs": [],
   "source": []
  }
 ]
}
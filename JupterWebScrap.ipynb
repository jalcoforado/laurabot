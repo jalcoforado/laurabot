{
 "metadata": {
  "language_info": {
   "codemirror_mode": {
    "name": "ipython",
    "version": 3
   },
   "file_extension": ".py",
   "mimetype": "text/x-python",
   "name": "python",
   "nbconvert_exporter": "python",
   "pygments_lexer": "ipython3",
   "version": "3.6.8-final"
  },
  "orig_nbformat": 2,
  "kernelspec": {
   "name": "python_defaultSpec_1600884016158",
   "display_name": "Python 3.6.8 64-bit ('env': venv)"
  }
 },
 "nbformat": 4,
 "nbformat_minor": 2,
 "cells": [
  {
   "cell_type": "code",
   "execution_count": 46,
   "metadata": {},
   "outputs": [],
   "source": [
    "from typing import Any, Text, Dict, List\n",
    "\n",
    "# importe a biblioteca usada para consultar uma URL\n",
    "import urllib.request\n",
    "# importe as funções BeautifulSoup para analisar os dados retornados do site\n",
    "from bs4 import BeautifulSoup\n",
    "import pandas as pd\n",
    "import sys"
   ]
  },
  {
   "source": [
    "#url = \"http://207.154.234.162/pt-br/home\"\n",
    "url = \"http://207.154.234.162/pt-br/teste\"\n",
    "headers = {\n",
    "    'User-Agent': 'Ouvidoria, cgm.com',\n",
    "    'From': 'ouvidoria@fortaleza.ce.gov.br'\n",
    "}\n",
    "html = urllib.request.urlopen(url)\n",
    "soup = BeautifulSoup(html, \"lxml\")\n"
   ],
   "cell_type": "code",
   "metadata": {},
   "execution_count": 142,
   "outputs": []
  },
  {
   "cell_type": "code",
   "execution_count": 143,
   "metadata": {
    "tags": []
   },
   "outputs": [
    {
     "output_type": "stream",
     "name": "stdout",
     "text": "<!DOCTYPE html>\n<html lang=\"pt-br\">\n <head>\n  <meta content=\"IE=edge\" http-equiv=\"X-UA-Compatible\"/>\n  <meta charset=\"utf-8\"/>\n  <meta content=\"user-scalable=yes, width=device-width, initial-scale=1, maximum-scale=5\" name=\"viewport\"/>\n  <meta content=\"#1976d2\" name=\"theme-color\"/>\n  <meta content=\"#1976d2\" name=\"msapplication-TileColor\"/>\n  <meta content=\"/_assets/favicons/mstile-150x150.png\" name=\"msapplication-TileImage\"/>\n  <title>\n   Teste | Wiki.js\n  </title>\n  <meta content=\"\" name=\"description\"/>\n  <meta content=\"Teste\" property=\"og:title\"/>\n  <meta content=\"website\" property=\"og:type\"/>\n  <meta content=\"\" property=\"og:description\"/>\n  <meta property=\"og:image\"/>\n  <meta content=\"http://207.154.234.162/en/home/pt-br/teste\" property=\"og:url\"/>\n  <meta content=\"Wiki.js\" property=\"og:site_name\"/>\n  <link href=\"/_assets/favicons/apple-touch-icon.png\" rel=\"apple-touch-icon\" sizes=\"180x180\"/>\n  <link href=\"/_assets/favicons/android-chrome-192x192.png\" rel=\"icon\" sizes=\"192x192\" type=\"image/png\"/>\n  <link href=\"/_assets/favicons/favicon-32x32.png\" rel=\"icon\" sizes=\"32x32\" type=\"image/png\"/>\n  <link href=\"/_assets/favicons/favicon-16x16.png\" rel=\"icon\" sizes=\"16x16\" type=\"image/png\"/>\n  <link color=\"#1976d2\" href=\"/_assets/favicons/safari-pinned-tab.svg\" rel=\"mask-icon\"/>\n  <link href=\"/_assets/manifest.json\" rel=\"manifest\"/>\n  <script>\n   var siteConfig = {\"title\":\"Wiki.js\",\"theme\":\"default\",\"darkMode\":false,\"lang\":\"pt-br\",\"rtl\":false,\"company\":\"\",\"contentLicense\":\"\",\"logoUrl\":\"https://static.requarks.io/logo/wikijs-butterfly.svg\"}\nvar siteLangs = []\n  </script>\n  <link href=\"/_assets/css/app.3faf3def5b1f890b8592.css\" rel=\"stylesheet\" type=\"text/css\"/>\n  <script src=\"/_assets/js/runtime.js?1600047985\" type=\"text/javascript\">\n  </script>\n  <script src=\"/_assets/js/app.js?1600047985\" type=\"text/javascript\">\n  </script>\n </head>\n <body>\n  <div id=\"root\">\n   <page :author-id=\"1\" :is-published=\"true\" :page-id=\"4\" :tags=\"[]\" author-name=\"Administrator\" comments-enabled=\"\" created-at=\"2020-09-24T16:51:46.412Z\" description=\"\" effective-permissions=\"eyJjb21tZW50cyI6eyJyZWFkIjp0cnVlLCJ3cml0ZSI6ZmFsc2UsIm1hbmFnZSI6ZmFsc2V9LCJoaXN0b3J5Ijp7InJlYWQiOmZhbHNlfSwic291cmNlIjp7InJlYWQiOmZhbHNlfSwicGFnZXMiOnsicmVhZCI6dHJ1ZSwid3JpdGUiOmZhbHNlLCJtYW5hZ2UiOmZhbHNlLCJkZWxldGUiOmZhbHNlLCJzY3JpcHQiOmZhbHNlLCJzdHlsZSI6ZmFsc2V9LCJzeXN0ZW0iOnsibWFuYWdlIjpmYWxzZX19\" locale=\"pt-br\" nav-mode=\"TREE\" path=\"teste\" sidebar=\"W10=\" title=\"Teste\" toc=\"W3sidGl0bGUiOiJPdXZpZG9yaWEiLCJhbmNob3IiOiIjb3V2aWRvcmlhIiwiY2hpbGRyZW4iOlt7InRpdGxlIjoiTyBxdWUgw6kgQ0dNPyIsImFuY2hvciI6IiNvLXF1ZS3DqS1jZ20iLCJjaGlsZHJlbiI6W119LHsidGl0bGUiOiJNZXUgbm9tZSDDqSBqb3JnZSIsImFuY2hvciI6IiNtZXUtbm9tZS3DqS1qb3JnZSIsImNoaWxkcmVuIjpbXX1dfV0=\" updated-at=\"2020-09-24T19:21:34.024Z\">\n    <template slot=\"contents\">\n     <div>\n      <h1 class=\"toc-header\" id=\"ouvidoria\">\n       <a class=\"toc-anchor\" href=\"#ouvidoria\">\n        ¶\n       </a>\n       Ouvidoria\n      </h1>\n      <div>\n      </div>\n      <h2 class=\"toc-header\" id=\"o-que-é-cgm\">\n       <a class=\"toc-anchor\" href=\"#o-que-é-cgm\">\n        ¶\n       </a>\n       O que é CGM?\n      </h2>\n      <div>\n      </div>\n      <p>\n       A CGM é uma secrataria muito legal\n      </p>\n      <div>\n      </div>\n      <p>\n      </p>\n      <div>\n      </div>\n      <figure class=\"table\">\n       <table>\n        <tbody>\n         <tr>\n          <td>\n           Nome\n          </td>\n          <td>\n           Endereço\n          </td>\n          <td>\n           Telefone\n          </td>\n         </tr>\n         <tr>\n          <td>\n          </td>\n          <td>\n          </td>\n          <td>\n          </td>\n         </tr>\n        </tbody>\n       </table>\n      </figure>\n      <div>\n      </div>\n      <h2 class=\"toc-header\" id=\"meu-nome-é-jorge\">\n       <a class=\"toc-anchor\" href=\"#meu-nome-é-jorge\">\n        ¶\n       </a>\n       Meu nome é jorge\n      </h2>\n      <div>\n      </div>\n      <p>\n       Jorge alberto é legl\n      </p>\n      <div>\n      </div>\n     </div>\n    </template>\n    <template slot=\"comments\">\n     <div>\n      <comments>\n      </comments>\n     </div>\n    </template>\n   </page>\n  </div>\n </body>\n</html>\n"
    }
   ],
   "source": [
    "print(soup.prettify())"
   ]
  },
  {
   "cell_type": "code",
   "execution_count": 35,
   "metadata": {
    "tags": []
   },
   "outputs": [
    {
     "output_type": "stream",
     "name": "stdout",
     "text": "<title>Sistema de Ouvidoria | Wiki.js</title>\n"
    }
   ],
   "source": [
    "print(soup.title)"
   ]
  },
  {
   "cell_type": "code",
   "execution_count": 36,
   "metadata": {
    "tags": []
   },
   "outputs": [
    {
     "output_type": "stream",
     "name": "stdout",
     "text": "Sistema de Ouvidoria | Wiki.js\n"
    }
   ],
   "source": [
    "print(soup.text)"
   ]
  },
  {
   "cell_type": "code",
   "execution_count": 128,
   "metadata": {
    "tags": []
   },
   "outputs": [],
   "source": [
    "web_links = soup.find_all(\"a\")\n",
    "tags_p = soup.find_all(\"p\")"
   ]
  },
  {
   "cell_type": "code",
   "execution_count": 133,
   "metadata": {},
   "outputs": [
    {
     "output_type": "execute_result",
     "data": {
      "text/plain": "<p>Este sistema permite acesso a todas as Ouvidorias dos órgãos do Prefeitura Municipal de Fortaleza - Rede de Ouvidorias da PMF.<br/>\nTipos de Manifestação: Solicitação de Informação, Reclamação, Denúncia, Sugestão, Elogio.<br/>\nApós registrar sua manifestação, através desse sistema é possível acompanhar seu processo através de meios eletrônicos.<br/>\nA resposta da Ouvidoria também será enviada por esse canal</p>"
     },
     "metadata": {},
     "execution_count": 133
    }
   ],
   "source": [
    "tags_p[1]"
   ]
  },
  {
   "cell_type": "code",
   "execution_count": 135,
   "metadata": {
    "tags": []
   },
   "outputs": [
    {
     "output_type": "stream",
     "name": "stdout",
     "text": "-------------\n<p>A Ouvidoria é o local para a população opinar, sugerir e ajudar a construir uma administração pública que atenda as necessidades de todos. É responsável por receber denúncias, reclamações, sugestões e elogios, em contatos por telefone, web, e pessoalmente</p>\n-------------\n<p>Este sistema permite acesso a todas as Ouvidorias dos órgãos do Prefeitura Municipal de Fortaleza - Rede de Ouvidorias da PMF.<br/>\nTipos de Manifestação: Solicitação de Informação, Reclamação, Denúncia, Sugestão, Elogio.<br/>\nApós registrar sua manifestação, através desse sistema é possível acompanhar seu processo através de meios eletrônicos.<br/>\nA resposta da Ouvidoria também será enviada por esse canal</p>\n-------------\n<p>Através do link:  <a class=\"is-external-link\" href=\"https://sistemas.sepog.fortaleza.ce.gov.br/guardiao/index.aspx\">https://sistemas.sepog.fortaleza.ce.gov.br/guardiao/index.aspx</a>.<br/>\nVocê irá entrar com o seu cadastro conforme a figura abaixo.</p>\n-------------\n<p><img alt=\"guardiao.png\" src=\"/guardiao.png\"/></p>\n"
    }
   ],
   "source": [
    "for item in tags_p:\n",
    "    print(\"-------------\")\n",
    "    print(item)\n",
    "    "
   ]
  },
  {
   "cell_type": "code",
   "execution_count": 97,
   "metadata": {},
   "outputs": [],
   "source": [
    "topico = soup.find(\"h2\",id=\"sobre-a-cgm\")"
   ]
  },
  {
   "cell_type": "code",
   "execution_count": 98,
   "metadata": {
    "tags": []
   },
   "outputs": [
    {
     "output_type": "stream",
     "name": "stdout",
     "text": "<h2 class=\"toc-header\" id=\"sobre-a-cgm\"><a class=\"toc-anchor\" href=\"#sobre-a-cgm\">¶</a> Sobre a CGM</h2>\n"
    }
   ],
   "source": [
    "print(topico)"
   ]
  },
  {
   "cell_type": "code",
   "execution_count": 99,
   "metadata": {
    "tags": []
   },
   "outputs": [
    {
     "output_type": "execute_result",
     "data": {
      "text/plain": "bs4.element.Tag"
     },
     "metadata": {},
     "execution_count": 99
    }
   ],
   "source": [
    "type(topico)"
   ]
  },
  {
   "cell_type": "code",
   "execution_count": 100,
   "metadata": {},
   "outputs": [],
   "source": [
    "texto = topico.find_next_sibling('p')"
   ]
  },
  {
   "cell_type": "code",
   "execution_count": 114,
   "metadata": {},
   "outputs": [],
   "source": []
  },
  {
   "source": [
    "final = ''\n",
    "for item in texto.contents:\n",
    "    if (\"<br/>\") in item:        \n",
    "        print(item)\n",
    "    else:\n",
    "        final = final + str(item)\n"
   ],
   "cell_type": "markdown",
   "metadata": {
    "tags": []
   }
  },
  {
   "cell_type": "code",
   "execution_count": 82,
   "metadata": {},
   "outputs": [
    {
     "output_type": "execute_result",
     "data": {
      "text/plain": "'A Controladoria e Ouvidoria Geral do Município (CGM) tem como objetivo primordial o apoio e a orientação dos órgãos da administração municipal quanto ao cumprimento dos procedimentos legais que disciplinam a execução do gasto público, assegurando o direito de acesso à informação.<br/>\\nA missão do órgão é assegurar a adequada aplicação dos recursos públicos, promover o controle da legalidade, da transparência da administração e manter um canal de comunicação com o cidadão por meio da Ouvidoria, visando à efetividade, o controle interno e social das ações do município de Fortaleza.<br/>\\nPara mais informações Acesse :<br/>\\n<a class=\"is-external-link\" href=\"https://www.fortaleza.ce.gov.br/institucional/a-secretaria-339\">https://www.fortaleza.ce.gov.br/institucional/a-secretaria-339</a>'"
     },
     "metadata": {},
     "execution_count": 82
    }
   ],
   "source": [
    "final"
   ]
  },
  {
   "cell_type": "code",
   "execution_count": 44,
   "metadata": {
    "tags": []
   },
   "outputs": [
    {
     "output_type": "stream",
     "name": "stdout",
     "text": "Zabaglia, Niccola\nZaccone, Fabian\nZadkine, Ossip\nZaech, Bernhard\nZagar, Jacob\nZagroba, Idalia\nZaidenberg, A.\nZaidenberg, Arthur\nZaisinger, Matthäus\nZajac, Jack\nZak, Eugène\nZakharov, Gurii Fillipovich\nZakowortny, Igor\nZalce, Alfredo\nZalopany, Michele\nZammiello, Craig\nZammitt, Norman\nZampieri, Domenico\nZampieri, called Domenichino, Domenico\nZanartú, Enrique Antunez\nZanchi, Antonio\nZanetti, Anton Maria\nZanetti Borzino, Leopoldina\nZanetti I, Antonio Maria, conte\nZanguidi, Jacopo\nZanini, Giuseppe\nZanini-Viola, Giuseppe\nZanotti, Giampietro\nZao Wou-Ki\n"
    }
   ],
   "source": [
    "import requests\n",
    "from bs4 import BeautifulSoup\n",
    "\n",
    "\n",
    "page = requests.get('https://web.archive.org/web/20121007172955/https://www.nga.gov/collection/anZ1.htm')\n",
    "\n",
    "soup = BeautifulSoup(page.text, 'html.parser')\n",
    "\n",
    "last_links = soup.find(class_='AlphaNav')\n",
    "last_links.decompose()\n",
    "\n",
    "artist_name_list = soup.find(class_='BodyText')\n",
    "artist_name_list_items = artist_name_list.find_all('a')\n",
    "\n",
    "# Usar .contents para pegar as tags <a> filhas\n",
    "for artist_name in artist_name_list_items:\n",
    "    names = artist_name.contents[0]\n",
    "    print(names)"
   ]
  },
  {
   "cell_type": "code",
   "execution_count": null,
   "metadata": {},
   "outputs": [],
   "source": []
  }
 ]
}
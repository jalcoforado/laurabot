{
 "cells": [
  {
   "cell_type": "code",
   "execution_count": 1,
   "metadata": {},
   "outputs": [],
   "source": [
    "from typing import Any, Text, Dict, List\n",
    "from rasa_sdk import Action, Tracker\n",
    "from rasa_sdk.executor import CollectingDispatcher\n",
    "\n",
    "# importe a biblioteca usada para consultar uma URL\n",
    "import urllib.request\n",
    "\n",
    "# importe as funções BeautifulSoup para analisar os dados retornados do site\n",
    "from bs4 import BeautifulSoup\n",
    "import pandas as pd\n",
    "import sys"
   ]
  },
  {
   "cell_type": "code",
   "execution_count": 5,
   "metadata": {
    "tags": []
   },
   "outputs": [
    {
     "output_type": "stream",
     "name": "stdout",
     "text": "Estado Sigla    Governador Partido\nPernambuco  Pernambuco  PE\\n  Paulo Câmara     PSB\nPaulo Câmara do partido PSB\n"
    }
   ],
   "source": [
    "        Estado = \"Pernambuco\"\n",
    "        # especifique o URL\n",
    "        wiki = \"https://pt.wikipedia.org/wiki/Lista_de_governadores_das_unidades_federativas_do_Brasil_(2019%E2%80%932023)\"\n",
    "        # Consulte o site e retorne o html para a variável 'page'\n",
    "        page = urllib.request.urlopen(wiki)\n",
    "        # Parse o html na variável 'page' e armazene-o no formato BeautifulSoup\n",
    "        soup = BeautifulSoup(page, \"html.parser\")\n",
    "        # Localiza a table dos nomes do prefeito\n",
    "        table = soup.find(\"table\", class_=\"wikitable sortable\")\n",
    "        A = []\n",
    "        B = []\n",
    "        C = []\n",
    "        D = []\n",
    "\n",
    "        for row in table.findAll(\"tr\"):  # para tudo que estiver em <tr>\n",
    "            cells = row.findAll(\"td\")  # variável para encontrar <td>\n",
    "            if len(cells) == 7:  # número de colunas\n",
    "                A.append(cells[1].find(text=True))  # iterando sobre cada linha\n",
    "                B.append(cells[2].find(text=True))  # iterando sobre cada linha\n",
    "                C.append(cells[3].find(text=True))\n",
    "                D.append(cells[4].find(text=True))\n",
    "\n",
    "        df = pd.DataFrame(index=A, columns=[\"Estado\"])\n",
    "\n",
    "        df[\"Estado\"] = A\n",
    "        df[\"Sigla\"] = B\n",
    "        df[\"Governador\"] = C\n",
    "        df[\"Partido\"] = D\n",
    "\n",
    "        if Estado == \"none\":\n",
    "            dispatcher.utter_message(text=\"Estado invalida!\")\n",
    "\n",
    "        else:\n",
    "            resposta = df[df[\"Estado\"] == Estado]\n",
    "\n",
    "            # resposta = str(resposta)\n",
    "            print(resposta)\n",
    "            resposta_final = resposta[\"Governador\"].values[0] + \" do partido \" +               resposta[\"Partido\"].values[0]\n",
    "            print(str(resposta_final))\n"
   ]
  },
  {
   "cell_type": "code",
   "execution_count": null,
   "metadata": {},
   "outputs": [],
   "source": []
  }
 ],
 "metadata": {
  "kernelspec": {
   "display_name": "Python 3",
   "language": "python",
   "name": "python3"
  },
  "language_info": {
   "codemirror_mode": {
    "name": "ipython",
    "version": 3
   },
   "file_extension": ".py",
   "mimetype": "text/x-python",
   "name": "python",
   "nbconvert_exporter": "python",
   "pygments_lexer": "ipython3",
   "version": "3.6.8-final"
  }
 },
 "nbformat": 4,
 "nbformat_minor": 4
}